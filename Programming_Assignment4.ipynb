{
 "cells": [
  {
   "cell_type": "code",
   "execution_count": 6,
   "metadata": {},
   "outputs": [
    {
     "name": "stdout",
     "output_type": "stream",
     "text": [
      "The factorial of 3 is: 6\n"
     ]
    }
   ],
   "source": [
    "# 1. Write a Python Program to Find the Factorial of a Number?\n",
    "\n",
    "def factorial(n):\n",
    "    if n < 0:\n",
    "        return \"Factorial is not defined for negative numbers.\"\n",
    "    elif n == 0 or n == 1:\n",
    "        return 1\n",
    "    else:\n",
    "        result = 1\n",
    "        for i in range(2,n+1):\n",
    "            result *= i \n",
    "        return result\n",
    "        \n",
    "        \n",
    "user_input = int(input(\"Enter a number: \"))\n",
    "\n",
    "\n",
    "result = factorial(user_input)\n",
    "print(f\"The factorial of {user_input} is: {result}\")\n"
   ]
  },
  {
   "cell_type": "code",
   "execution_count": 9,
   "metadata": {},
   "outputs": [
    {
     "name": "stdout",
     "output_type": "stream",
     "text": [
      "Multiplication Table for 5 up to 10:\n",
      "5 x 1 = 5\n",
      "5 x 2 = 10\n",
      "5 x 3 = 15\n",
      "5 x 4 = 20\n",
      "5 x 5 = 25\n",
      "5 x 6 = 30\n",
      "5 x 7 = 35\n",
      "5 x 8 = 40\n",
      "5 x 9 = 45\n",
      "5 x 10 = 50\n"
     ]
    }
   ],
   "source": [
    "# 2. Write a Python Program to Display the multiplication Table?\n",
    "\n",
    "def multiplication_table(number, limit):\n",
    "    print(f\"Multiplication Table for {number} up to {limit}:\")\n",
    "    for i in range(1, limit + 1):\n",
    "        result = number * i\n",
    "        print(f\"{number} x {i} = {result}\")\n",
    "\n",
    "\n",
    "user_input = int(input(\"Enter a number for the multiplication table: \"))\n",
    "table_limit = int(input(\"Enter the limit for the table: \"))\n",
    "\n",
    "\n",
    "multiplication_table(user_input, table_limit)\n"
   ]
  },
  {
   "cell_type": "code",
   "execution_count": 11,
   "metadata": {},
   "outputs": [
    {
     "name": "stdout",
     "output_type": "stream",
     "text": [
      "Fibonacci sequence up to 200:\n",
      "[0, 1, 1, 2, 3, 5, 8, 13, 21, 34, 55, 89, 144]\n"
     ]
    }
   ],
   "source": [
    "# 3. Write a Python Program to Print the Fibonacci sequence?\n",
    "\n",
    "def fibonacci_sequence(limit):\n",
    "    sequence = [0, 1]\n",
    "\n",
    "    while sequence[-1] + sequence[-2] <= limit:\n",
    "        next_term = sequence[-1] + sequence[-2]\n",
    "        sequence.append(next_term)\n",
    "\n",
    "    return sequence\n",
    "\n",
    "# Get user input\n",
    "limit = int(input(\"Enter the limit for the Fibonacci sequence: \"))\n",
    "\n",
    "\n",
    "result = fibonacci_sequence(limit)\n",
    "print(f\"Fibonacci sequence up to {limit}:\")\n",
    "print(result)\n"
   ]
  },
  {
   "cell_type": "code",
   "execution_count": 13,
   "metadata": {},
   "outputs": [
    {
     "name": "stdout",
     "output_type": "stream",
     "text": [
      "67 is not an Armstrong number.\n"
     ]
    }
   ],
   "source": [
    "# 4. Write a Python Program to Check Armstrong Number?\n",
    "\n",
    "def is_armstrong_number(number):\n",
    "    num_digits = len(str(number))\n",
    "    temp = number\n",
    "    sum = 0\n",
    "\n",
    "    while temp > 0:\n",
    "        digit = temp % 10\n",
    "        sum += digit ** num_digits\n",
    "        temp //= 10\n",
    "\n",
    "    return number == sum\n",
    "\n",
    "# Get user input\n",
    "user_input = int(input(\"Enter a number: \"))\n",
    "\n",
    "# Check if the number is an Armstrong number\n",
    "if is_armstrong_number(user_input):\n",
    "    print(f\"{user_input} is an Armstrong number.\")\n",
    "else:\n",
    "    print(f\"{user_input} is not an Armstrong number.\")\n"
   ]
  },
  {
   "cell_type": "code",
   "execution_count": 14,
   "metadata": {},
   "outputs": [
    {
     "name": "stdout",
     "output_type": "stream",
     "text": [
      "Armstrong numbers in the interval 78 to 7:\n",
      "[]\n"
     ]
    }
   ],
   "source": [
    "# 5. Write a Python Program to Find Armstrong Number in an Interval?\n",
    "\n",
    "\n",
    "\n",
    "def is_armstrong_number(number):\n",
    "    num_digits = len(str(number))\n",
    "    temp = number\n",
    "    sum = 0\n",
    "\n",
    "    while temp > 0:\n",
    "        digit = temp % 10\n",
    "        sum += digit ** num_digits\n",
    "        temp //= 10\n",
    "\n",
    "    return number == sum\n",
    "\n",
    "def find_armstrong_numbers(start, end):\n",
    "    armstrong_numbers = []\n",
    "\n",
    "    for num in range(start, end + 1):\n",
    "        if is_armstrong_number(num):\n",
    "            armstrong_numbers.append(num)\n",
    "\n",
    "    return armstrong_numbers\n",
    "\n",
    "# Get user input for the interval\n",
    "start_range = int(input(\"Enter the start of the interval: \"))\n",
    "end_range = int(input(\"Enter the end of the interval: \"))\n",
    "\n",
    "# Find and display Armstrong numbers within the interval\n",
    "result = find_armstrong_numbers(start_range, end_range)\n",
    "print(f\"Armstrong numbers in the interval {start_range} to {end_range}:\")\n",
    "print(result)\n"
   ]
  },
  {
   "cell_type": "code",
   "execution_count": 15,
   "metadata": {},
   "outputs": [
    {
     "name": "stdout",
     "output_type": "stream",
     "text": [
      "The sum of natural numbers up to 78 is: 3081\n"
     ]
    }
   ],
   "source": [
    "# 6. Write a Python Program to Find the Sum of Natural Numbers?\n",
    "\n",
    "\n",
    "def sum_of_natural_numbers(limit):\n",
    "    if limit < 0:\n",
    "        return \"Enter a positive integer.\"\n",
    "    else:\n",
    "        sum = 0\n",
    "        for i in range(1, limit + 1):\n",
    "            sum += i\n",
    "        return sum\n",
    "\n",
    "# Get user input\n",
    "limit = int(input(\"Enter a positive integer: \"))\n",
    "\n",
    "# Calculate and display the sum of natural numbers\n",
    "result = sum_of_natural_numbers(limit)\n",
    "print(f\"The sum of natural numbers up to {limit} is: {result}\")\n",
    "\n"
   ]
  },
  {
   "cell_type": "code",
   "execution_count": null,
   "metadata": {},
   "outputs": [],
   "source": []
  }
 ],
 "metadata": {
  "kernelspec": {
   "display_name": "base",
   "language": "python",
   "name": "python3"
  },
  "language_info": {
   "codemirror_mode": {
    "name": "ipython",
    "version": 3
   },
   "file_extension": ".py",
   "mimetype": "text/x-python",
   "name": "python",
   "nbconvert_exporter": "python",
   "pygments_lexer": "ipython3",
   "version": "3.11.4"
  }
 },
 "nbformat": 4,
 "nbformat_minor": 2
}
